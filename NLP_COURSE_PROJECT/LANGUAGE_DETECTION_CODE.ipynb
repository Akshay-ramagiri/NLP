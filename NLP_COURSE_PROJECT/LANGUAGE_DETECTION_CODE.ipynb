{
  "cells": [
    {
      "cell_type": "code",
      "execution_count": null,
      "metadata": {
        "colab": {
          "base_uri": "https://localhost:8080/"
        },
        "id": "eDxHEkCPC6BZ",
        "outputId": "23fc4229-67d1-4398-aadf-493089b0f90e"
      },
      "outputs": [
        {
          "output_type": "stream",
          "name": "stdout",
          "text": [
            "Mounted at /content/drive\n"
          ]
        }
      ],
      "source": [
        "from google.colab import drive\n",
        "drive.mount('/content/drive')"
      ]
    },
    {
      "cell_type": "code",
      "execution_count": null,
      "metadata": {
        "id": "2GlX7ia-DcDT"
      },
      "outputs": [],
      "source": [
        "#import libraries\n",
        "import numpy as np\n",
        "import pandas as pd \n",
        "import tensorflow as tf\n",
        "import nltk\n",
        "import seaborn as sns\n",
        "import re\n",
        "import matplotlib.pyplot as plt\n",
        "\n",
        "from tensorflow.keras.layers import Embedding, Dense, LSTM, Dropout, Bidirectional\n",
        "from tensorflow.keras.preprocessing.sequence import pad_sequences\n",
        "from tensorflow.keras.models import Sequential\n",
        "from tensorflow.keras.preprocessing.text import one_hot, Tokenizer\n",
        "from tensorflow.keras.callbacks import ModelCheckpoint\n",
        "from nltk.corpus import stopwords\n",
        "from nltk.stem.porter import PorterStemmer\n",
        "from sklearn import preprocessing\n",
        "from sklearn.model_selection import train_test_split\n",
        "from sklearn.metrics import accuracy_score, classification_report, confusion_matrix\n",
        "from tensorflow.keras.preprocessing.text import Tokenizer\n",
        "from tensorflow.keras.preprocessing.sequence import pad_sequences"
      ]
    },
    {
      "cell_type": "code",
      "execution_count": null,
      "metadata": {
        "colab": {
          "base_uri": "https://localhost:8080/",
          "height": 206
        },
        "id": "1MY4vA9ZDcQr",
        "outputId": "cfce1ae3-0d2e-4b21-f284-0c2a0055d053"
      },
      "outputs": [
        {
          "output_type": "execute_result",
          "data": {
            "text/plain": [
              "                                                Text Language\n",
              "0   Nature, in the broadest sense, is the natural...  English\n",
              "1  \"Nature\" can refer to the phenomena of the phy...  English\n",
              "2  The study of nature is a large, if not the onl...  English\n",
              "3  Although humans are part of nature, human acti...  English\n",
              "4  [1] The word nature is borrowed from the Old F...  English"
            ],
            "text/html": [
              "\n",
              "  <div id=\"df-7432162b-ae2b-4a78-af04-06d53e12a7c7\">\n",
              "    <div class=\"colab-df-container\">\n",
              "      <div>\n",
              "<style scoped>\n",
              "    .dataframe tbody tr th:only-of-type {\n",
              "        vertical-align: middle;\n",
              "    }\n",
              "\n",
              "    .dataframe tbody tr th {\n",
              "        vertical-align: top;\n",
              "    }\n",
              "\n",
              "    .dataframe thead th {\n",
              "        text-align: right;\n",
              "    }\n",
              "</style>\n",
              "<table border=\"1\" class=\"dataframe\">\n",
              "  <thead>\n",
              "    <tr style=\"text-align: right;\">\n",
              "      <th></th>\n",
              "      <th>Text</th>\n",
              "      <th>Language</th>\n",
              "    </tr>\n",
              "  </thead>\n",
              "  <tbody>\n",
              "    <tr>\n",
              "      <th>0</th>\n",
              "      <td>Nature, in the broadest sense, is the natural...</td>\n",
              "      <td>English</td>\n",
              "    </tr>\n",
              "    <tr>\n",
              "      <th>1</th>\n",
              "      <td>\"Nature\" can refer to the phenomena of the phy...</td>\n",
              "      <td>English</td>\n",
              "    </tr>\n",
              "    <tr>\n",
              "      <th>2</th>\n",
              "      <td>The study of nature is a large, if not the onl...</td>\n",
              "      <td>English</td>\n",
              "    </tr>\n",
              "    <tr>\n",
              "      <th>3</th>\n",
              "      <td>Although humans are part of nature, human acti...</td>\n",
              "      <td>English</td>\n",
              "    </tr>\n",
              "    <tr>\n",
              "      <th>4</th>\n",
              "      <td>[1] The word nature is borrowed from the Old F...</td>\n",
              "      <td>English</td>\n",
              "    </tr>\n",
              "  </tbody>\n",
              "</table>\n",
              "</div>\n",
              "      <button class=\"colab-df-convert\" onclick=\"convertToInteractive('df-7432162b-ae2b-4a78-af04-06d53e12a7c7')\"\n",
              "              title=\"Convert this dataframe to an interactive table.\"\n",
              "              style=\"display:none;\">\n",
              "        \n",
              "  <svg xmlns=\"http://www.w3.org/2000/svg\" height=\"24px\"viewBox=\"0 0 24 24\"\n",
              "       width=\"24px\">\n",
              "    <path d=\"M0 0h24v24H0V0z\" fill=\"none\"/>\n",
              "    <path d=\"M18.56 5.44l.94 2.06.94-2.06 2.06-.94-2.06-.94-.94-2.06-.94 2.06-2.06.94zm-11 1L8.5 8.5l.94-2.06 2.06-.94-2.06-.94L8.5 2.5l-.94 2.06-2.06.94zm10 10l.94 2.06.94-2.06 2.06-.94-2.06-.94-.94-2.06-.94 2.06-2.06.94z\"/><path d=\"M17.41 7.96l-1.37-1.37c-.4-.4-.92-.59-1.43-.59-.52 0-1.04.2-1.43.59L10.3 9.45l-7.72 7.72c-.78.78-.78 2.05 0 2.83L4 21.41c.39.39.9.59 1.41.59.51 0 1.02-.2 1.41-.59l7.78-7.78 2.81-2.81c.8-.78.8-2.07 0-2.86zM5.41 20L4 18.59l7.72-7.72 1.47 1.35L5.41 20z\"/>\n",
              "  </svg>\n",
              "      </button>\n",
              "      \n",
              "  <style>\n",
              "    .colab-df-container {\n",
              "      display:flex;\n",
              "      flex-wrap:wrap;\n",
              "      gap: 12px;\n",
              "    }\n",
              "\n",
              "    .colab-df-convert {\n",
              "      background-color: #E8F0FE;\n",
              "      border: none;\n",
              "      border-radius: 50%;\n",
              "      cursor: pointer;\n",
              "      display: none;\n",
              "      fill: #1967D2;\n",
              "      height: 32px;\n",
              "      padding: 0 0 0 0;\n",
              "      width: 32px;\n",
              "    }\n",
              "\n",
              "    .colab-df-convert:hover {\n",
              "      background-color: #E2EBFA;\n",
              "      box-shadow: 0px 1px 2px rgba(60, 64, 67, 0.3), 0px 1px 3px 1px rgba(60, 64, 67, 0.15);\n",
              "      fill: #174EA6;\n",
              "    }\n",
              "\n",
              "    [theme=dark] .colab-df-convert {\n",
              "      background-color: #3B4455;\n",
              "      fill: #D2E3FC;\n",
              "    }\n",
              "\n",
              "    [theme=dark] .colab-df-convert:hover {\n",
              "      background-color: #434B5C;\n",
              "      box-shadow: 0px 1px 3px 1px rgba(0, 0, 0, 0.15);\n",
              "      filter: drop-shadow(0px 1px 2px rgba(0, 0, 0, 0.3));\n",
              "      fill: #FFFFFF;\n",
              "    }\n",
              "  </style>\n",
              "\n",
              "      <script>\n",
              "        const buttonEl =\n",
              "          document.querySelector('#df-7432162b-ae2b-4a78-af04-06d53e12a7c7 button.colab-df-convert');\n",
              "        buttonEl.style.display =\n",
              "          google.colab.kernel.accessAllowed ? 'block' : 'none';\n",
              "\n",
              "        async function convertToInteractive(key) {\n",
              "          const element = document.querySelector('#df-7432162b-ae2b-4a78-af04-06d53e12a7c7');\n",
              "          const dataTable =\n",
              "            await google.colab.kernel.invokeFunction('convertToInteractive',\n",
              "                                                     [key], {});\n",
              "          if (!dataTable) return;\n",
              "\n",
              "          const docLinkHtml = 'Like what you see? Visit the ' +\n",
              "            '<a target=\"_blank\" href=https://colab.research.google.com/notebooks/data_table.ipynb>data table notebook</a>'\n",
              "            + ' to learn more about interactive tables.';\n",
              "          element.innerHTML = '';\n",
              "          dataTable['output_type'] = 'display_data';\n",
              "          await google.colab.output.renderOutput(dataTable, element);\n",
              "          const docLink = document.createElement('div');\n",
              "          docLink.innerHTML = docLinkHtml;\n",
              "          element.appendChild(docLink);\n",
              "        }\n",
              "      </script>\n",
              "    </div>\n",
              "  </div>\n",
              "  "
            ]
          },
          "metadata": {},
          "execution_count": 3
        }
      ],
      "source": [
        "df = pd.read_csv('/content/drive/MyDrive/Language_Detection.csv')\n",
        "df.head()"
      ]
    },
    {
      "cell_type": "code",
      "execution_count": null,
      "metadata": {
        "id": "w2PXX3ZKEK_E"
      },
      "outputs": [],
      "source": [
        "df=df.dropna()\n",
        "X=df.drop('Language',axis=1) #Input\n",
        "y=df['Language'] #Output"
      ]
    },
    {
      "cell_type": "code",
      "source": [
        "from sklearn.preprocessing import LabelEncoder\n",
        "le = LabelEncoder()\n",
        "y = le.fit_transform(y)"
      ],
      "metadata": {
        "id": "XPcULdAx4m84"
      },
      "execution_count": null,
      "outputs": []
    },
    {
      "cell_type": "code",
      "source": [
        "# creating a list for appending the preprocessed text\n",
        "data_list = []\n",
        "# iterating through all the text\n",
        "for text in X:\n",
        "       # removing the symbols and numbers\n",
        "        text = re.sub(r'[!@#$(),n\"%^*?:;~`0-9]', ' ', text)\n",
        "        text = re.sub(r'[[]]', ' ', text)\n",
        "        # converting the text to lower case\n",
        "        text = text.lower()\n",
        "        # appending to data_list\n",
        "        data_list.append(text)"
      ],
      "metadata": {
        "colab": {
          "base_uri": "https://localhost:8080/"
        },
        "id": "w0T4IZYt4pUS",
        "outputId": "ad814902-bd5e-4e85-e627-d99e7139f633"
      },
      "execution_count": null,
      "outputs": [
        {
          "output_type": "stream",
          "name": "stderr",
          "text": [
            "/usr/local/lib/python3.7/dist-packages/ipykernel_launcher.py:7: FutureWarning: Possible nested set at position 1\n",
            "  import sys\n"
          ]
        }
      ]
    },
    {
      "cell_type": "code",
      "source": [
        "import tensorflow_hub as hub\n",
        "bert = hub.KerasLayer(\"https://tfhub.dev/google/nnlm-en-dim128/2\")\n",
        "embeddings = bert(X)\n",
        "print(embeddings)\n",
        "print(\"shape=\",embeddings[1].shape)\n",
        "print(\"The sentence in the paragraph:\\n\",X[1],\"\\nis converted into vector as :\\n\", embeddings[1])"
      ],
      "metadata": {
        "colab": {
          "base_uri": "https://localhost:8080/"
        },
        "id": "YfNn2Qtt5PUi",
        "outputId": "29ac6a94-6d32-41ed-f5eb-cdb6d6fe9ea0"
      },
      "execution_count": null,
      "outputs": [
        {
          "output_type": "stream",
          "name": "stdout",
          "text": [
            "tf.Tensor(\n",
            "[[ 0.12778848  0.02403603 -0.09339465 ... -0.0418597  -0.09198532\n",
            "   0.09026735]\n",
            " [ 0.484048   -0.06725463 -0.10020828 ...  0.09389069 -0.0851873\n",
            "   0.06392989]\n",
            " [ 0.3990358  -0.08613508 -0.06939027 ... -0.01618767 -0.13552088\n",
            "   0.07235973]\n",
            " ...\n",
            " [-0.5095879  -0.14700373 -0.12929739 ...  0.37298828 -0.22492926\n",
            "  -0.02492031]\n",
            " [-0.52644193 -0.20362891 -0.26262432 ...  0.31079188 -0.01352573\n",
            "   0.01991738]\n",
            " [-0.7028307  -0.03590294 -0.12302309 ...  0.47081593 -0.27076986\n",
            "  -0.05819067]], shape=(10337, 128), dtype=float32)\n",
            "shape= (128,)\n",
            "The sentence in the paragraph:\n",
            " \"Nature\" can refer to the phenomena of the physical world, and also to life in general. \n",
            "is converted into vector as :\n",
            " tf.Tensor(\n",
            "[ 0.484048   -0.06725463 -0.10020828  0.06612628 -0.11392404 -0.04121799\n",
            " -0.19390997 -0.05654576 -0.08223679  0.08746222  0.01603101  0.11656304\n",
            " -0.12331242 -0.05298017 -0.07296603 -0.12864597 -0.27189773  0.03569224\n",
            " -0.0308062   0.38380077 -0.04825338  0.0459637   0.04912325  0.02498912\n",
            "  0.16581744  0.05840138  0.03989322  0.0323293  -0.02422908  0.05752946\n",
            "  0.04206065 -0.05612307  0.10069904 -0.0765209  -0.06003929  0.06131379\n",
            " -0.07188673 -0.02916148 -0.06323796  0.10093337 -0.03927884 -0.07924435\n",
            " -0.08169276 -0.14774773  0.072827   -0.01797154  0.05403966 -0.1474583\n",
            " -0.03177414  0.08654518  0.24540432  0.05806051  0.13664317  0.03727034\n",
            " -0.03105165  0.06745525 -0.03427061 -0.04447573  0.05665883  0.08094377\n",
            " -0.07600168  0.02862888 -0.12481702  0.05903072 -0.09630866  0.01677706\n",
            " -0.00869792 -0.0452299   0.05705735 -0.01295583 -0.12840135  0.01219371\n",
            "  0.06113005  0.11104397 -0.00873587  0.19025898 -0.11771718 -0.13681784\n",
            " -0.04327662  0.02042915  0.07664058  0.03712432 -0.00083225  0.02759729\n",
            "  0.02563605 -0.09512818 -0.10272546  0.08905025  0.13311008 -0.07212643\n",
            "  0.06997656  0.09084886  0.06956919  0.03028237  0.10415979 -0.06444284\n",
            " -0.02554028 -0.03613041 -0.00087655  0.00495522 -0.11598609  0.09396086\n",
            "  0.01240708  0.12707636  0.14464301 -0.04977563  0.19328117 -0.11376148\n",
            " -0.11255565  0.12967172 -0.05575375 -0.06701741 -0.21279964  0.01957278\n",
            "  0.13872108 -0.18453336  0.11825366 -0.0850954   0.13617414  0.01503822\n",
            "  0.08790116 -0.07673627 -0.02300626 -0.10709778 -0.01265632  0.09389069\n",
            " -0.0851873   0.06392989], shape=(128,), dtype=float32)\n"
          ]
        }
      ]
    },
    {
      "cell_type": "code",
      "source": [
        "import tensorflow_hub as hub\n",
        "bert = hub.KerasLayer(\"https://tfhub.dev/google/nnlm-en-dim128/2\")\n",
        "embeddings = bert(X)\n",
        "print(embeddings)\n",
        "print(\"shape=\",embeddings[2000].shape)\n",
        "print(\"The sentence in the paragraph:\\n\",X[2000],\"\\nis converted into vector as :\\n\", embeddings[2000])"
      ],
      "metadata": {
        "colab": {
          "base_uri": "https://localhost:8080/"
        },
        "id": "9I88JuVf6r4M",
        "outputId": "243adab5-6d8b-4e8a-f36d-bbb97748e492"
      },
      "execution_count": null,
      "outputs": [
        {
          "output_type": "stream",
          "name": "stdout",
          "text": [
            "tf.Tensor(\n",
            "[[ 0.12778848  0.02403603 -0.09339465 ... -0.0418597  -0.09198532\n",
            "   0.09026735]\n",
            " [ 0.484048   -0.06725463 -0.10020828 ...  0.09389069 -0.0851873\n",
            "   0.06392989]\n",
            " [ 0.3990358  -0.08613508 -0.06939027 ... -0.01618767 -0.13552088\n",
            "   0.07235973]\n",
            " ...\n",
            " [-0.5095879  -0.14700373 -0.12929739 ...  0.37298828 -0.22492926\n",
            "  -0.02492031]\n",
            " [-0.52644193 -0.20362891 -0.26262432 ...  0.31079188 -0.01352573\n",
            "   0.01991738]\n",
            " [-0.7028307  -0.03590294 -0.12302309 ...  0.47081593 -0.27076986\n",
            "  -0.05819067]], shape=(10337, 128), dtype=float32)\n",
            "shape= (128,)\n",
            "The sentence in the paragraph:\n",
            " वाक्यांश संख्या दो, जब आपने किसी को कुछ समय के लिए नहीं देखा है, तो आप उसे बताएंगे कि कोई समय नहीं है, तो इसका मतलब है कि आपने इस व्यक्ति को शायद हफ्तों या महीनों में नहीं देखा है जब तक कि वाक्यांश संख्या नहीं देखी जाती है। तीन अगर आप पूछना चाहते हैं कि आप क्या कर रहे हैं। आप पूछते हैं कि आपके जीवन में क्या चल रहा था? \n",
            "is converted into vector as :\n",
            " tf.Tensor(\n",
            "[-1.06079257e+00 -2.68237889e-01 -1.69575125e-01 -3.28997999e-01\n",
            " -2.27756515e-01 -3.36972147e-01 -9.66303229e-01 -1.23991050e-01\n",
            "  1.59042642e-01 -1.74610868e-01 -2.73799121e-01  5.14749527e-01\n",
            "  5.07998645e-01 -1.16271444e-01 -6.28158599e-02 -5.18339992e-01\n",
            "  3.07304502e-01  2.17490718e-02  1.77833691e-01 -6.08820140e-01\n",
            "  4.57636595e-01  1.43331259e-01  6.47894591e-02  1.53585508e-01\n",
            " -3.61790270e-01 -2.58666188e-01  1.75884292e-01  8.55806023e-02\n",
            " -2.82101184e-01  6.90217018e-02  4.27445143e-01 -1.23620242e-01\n",
            "  4.26759064e-01 -3.50533314e-02  1.26047343e-01  1.64547823e-02\n",
            "  3.22477102e-01 -2.16244876e-01 -2.04605490e-01  4.82489794e-01\n",
            "  1.08515240e-01  1.68236449e-01  4.95080091e-02 -1.82428926e-01\n",
            " -7.29033574e-02  2.35766750e-02  2.66284104e-02 -5.38590968e-01\n",
            " -3.16687673e-01 -3.59609097e-01 -4.72978085e-01  5.06949246e-01\n",
            " -2.02052772e-01  1.00835092e-01  4.80100028e-02  1.50045127e-01\n",
            " -3.35339755e-01 -5.06002784e-01  1.12155713e-01  3.84960294e-01\n",
            "  2.24656656e-01  2.14029364e-02 -9.55734625e-02 -3.55320007e-01\n",
            " -2.72358149e-01 -3.31350505e-01  1.33994788e-01 -1.96698174e-01\n",
            " -1.52858421e-01  4.05719399e-01 -4.68680859e-01 -2.13949785e-01\n",
            "  3.15705597e-01 -4.80172217e-01  5.77823520e-01 -4.99548078e-01\n",
            " -8.34712088e-02 -2.83789784e-01 -2.34487593e-01 -4.56669554e-03\n",
            " -6.45008683e-02 -1.80960760e-01 -2.25525096e-01  1.34549275e-01\n",
            " -6.93348467e-01 -2.93939650e-01  9.30011272e-01  5.46004355e-01\n",
            " -9.14549708e-01 -8.71536970e-01 -1.19150169e-01  8.97973776e-04\n",
            " -1.55052662e-01 -1.60139591e-01  2.96618432e-01  4.52457840e-04\n",
            " -2.00453997e-01 -1.46516129e-01  3.97177756e-01  1.33112043e-01\n",
            " -2.24191546e-01  4.13719505e-01  2.48572649e-03  5.23894727e-01\n",
            "  2.42381483e-01 -5.50466537e-01 -4.20806780e-02 -1.24363638e-01\n",
            " -1.21387042e-01  2.92910457e-01  1.67966381e-01  1.12779856e-01\n",
            "  1.20849095e-01  3.15548144e-02 -6.84976056e-02  1.78107992e-01\n",
            " -3.62989873e-01  4.03271139e-01 -3.73790145e-01 -8.16884279e-01\n",
            " -2.91522175e-01  5.83235919e-02  2.93912023e-01 -1.43770874e-01\n",
            " -5.71622401e-02  4.15003657e-01 -1.93655133e-01 -2.41423428e-01], shape=(128,), dtype=float32)\n"
          ]
        }
      ]
    },
    {
      "cell_type": "code",
      "source": [
        "import tensorflow_hub as hub\n",
        "bert = hub.KerasLayer(\"https://tfhub.dev/google/nnlm-en-dim128/2\")\n",
        "embeddings = bert(X)\n",
        "print(embeddings)\n",
        "print(\"shape=\",embeddings[2500].shape)\n",
        "print(\"The sentence in the paragraph:\\n\",X[2500],\"\\nis converted into vector as :\\n\", embeddings[2500])"
      ],
      "metadata": {
        "colab": {
          "base_uri": "https://localhost:8080/"
        },
        "id": "8LmVzC-W6w4E",
        "outputId": "fe947262-2561-4b12-bfd8-a0c4c5500419"
      },
      "execution_count": null,
      "outputs": [
        {
          "output_type": "stream",
          "name": "stdout",
          "text": [
            "tf.Tensor(\n",
            "[[ 0.12778848  0.02403603 -0.09339465 ... -0.0418597  -0.09198532\n",
            "   0.09026735]\n",
            " [ 0.484048   -0.06725463 -0.10020828 ...  0.09389069 -0.0851873\n",
            "   0.06392989]\n",
            " [ 0.3990358  -0.08613508 -0.06939027 ... -0.01618767 -0.13552088\n",
            "   0.07235973]\n",
            " ...\n",
            " [-0.5095879  -0.14700373 -0.12929739 ...  0.37298828 -0.22492926\n",
            "  -0.02492031]\n",
            " [-0.52644193 -0.20362891 -0.26262432 ...  0.31079188 -0.01352573\n",
            "   0.01991738]\n",
            " [-0.7028307  -0.03590294 -0.12302309 ...  0.47081593 -0.27076986\n",
            "  -0.05819067]], shape=(10337, 128), dtype=float32)\n",
            "shape= (128,)\n",
            "The sentence in the paragraph:\n",
            " என் அம்மாவிடம் என்னை வீட்டிற்கு செல்ல விடுங்கள் மெலிசா மற்றும் டெரன்ஸ் ஒருவருக்கொருவர் பார்த்து நன்றாக கண் சிமிட்டினர். \n",
            "is converted into vector as :\n",
            " tf.Tensor(\n",
            "[-0.6095066  -0.06881779 -0.24264042  0.07796168  0.13601384 -0.22306603\n",
            " -0.32625318  0.04569533 -0.14271961  0.00981649 -0.13399799  0.1600044\n",
            "  0.16596377 -0.12154382  0.13472319 -0.16911528  0.14720492 -0.06585824\n",
            "  0.07254849 -0.3636522  -0.09032738 -0.14072014  0.20524402 -0.03875041\n",
            " -0.13391742 -0.15580888 -0.14833845  0.09822077 -0.13552961  0.03474144\n",
            "  0.07946958 -0.02404159  0.09135561  0.00263304 -0.0621204  -0.10284079\n",
            "  0.13476598 -0.28572538  0.12413324  0.0904534   0.13477564  0.00314988\n",
            " -0.08446143 -0.03816538  0.16538684 -0.01766166  0.11614849  0.05384433\n",
            " -0.075924   -0.01752521 -0.2188029   0.00482622 -0.21074408 -0.02240534\n",
            "  0.07839609 -0.17469177 -0.02616647 -0.0936623  -0.03822865  0.05540535\n",
            "  0.08639963 -0.02714075  0.12291299  0.04629755  0.08359978 -0.06004798\n",
            " -0.03072611 -0.03846667 -0.11052923 -0.01230812 -0.192553   -0.04163127\n",
            "  0.142165   -0.04933202  0.37511507 -0.21940677  0.08868321 -0.07837427\n",
            "  0.01892078 -0.00304955 -0.14560595  0.10137246  0.08448682  0.17882973\n",
            " -0.19916242 -0.03318393  0.36866328  0.02798456 -0.44804457 -0.47852746\n",
            "  0.00460779  0.05865532 -0.04843984  0.10834019 -0.01081789 -0.23101647\n",
            " -0.00332921 -0.00940701  0.24555528 -0.06873009 -0.05294136 -0.07210401\n",
            "  0.0406249   0.1717756  -0.10235696 -0.10279775 -0.00637476 -0.02170769\n",
            "  0.03447081 -0.0109358   0.02557255  0.20070587 -0.14037026  0.01484179\n",
            "  0.00571763 -0.01897505 -0.2727118   0.04765876 -0.06359538 -0.19183768\n",
            "  0.10397247  0.07511445  0.1241154  -0.09358443 -0.0737253   0.18801805\n",
            " -0.15035346 -0.0074878 ], shape=(128,), dtype=float32)\n"
          ]
        }
      ]
    },
    {
      "cell_type": "code",
      "execution_count": null,
      "metadata": {
        "id": "nLGN4eJdEVFn"
      },
      "outputs": [],
      "source": [
        "messages=X.copy()\n",
        "messages.reset_index(inplace=True) "
      ]
    },
    {
      "cell_type": "code",
      "execution_count": null,
      "metadata": {
        "colab": {
          "base_uri": "https://localhost:8080/"
        },
        "id": "GaFQw5cXEaH1",
        "outputId": "a22c5b37-4d2d-4497-d848-d04abe0ce1c9"
      },
      "outputs": [
        {
          "output_type": "stream",
          "name": "stderr",
          "text": [
            "[nltk_data] Downloading package stopwords to /root/nltk_data...\n",
            "[nltk_data]   Unzipping corpora/stopwords.zip.\n"
          ]
        }
      ],
      "source": [
        "nltk.download('stopwords')\n",
        "ps = PorterStemmer()\n",
        "corpus = []\n",
        "for i in range(0, len(messages)):\n",
        "    review = re.sub('[^a-zA-Z]', ' ', messages['Text'][i]) #Remove Special Characters and digits\n",
        "    review = review.lower() #Lower case \n",
        "    review = review.split()\n",
        "    review = [ps.stem(word) for word in review if not word in stopwords.words('english')] #Remove stopwords\n",
        "    review = ' '.join(review)\n",
        "    corpus.append(review)"
      ]
    },
    {
      "cell_type": "code",
      "execution_count": null,
      "metadata": {
        "colab": {
          "base_uri": "https://localhost:8080/"
        },
        "id": "mPbipJUiEuR9",
        "outputId": "52aca55c-7000-4258-862d-dbb5d5819556"
      },
      "outputs": [
        {
          "output_type": "stream",
          "name": "stdout",
          "text": [
            "Number of unique words in dictionary= 21858\n",
            "Dense vector for first word is =>  [ 0.41448     0.37182999 -0.54288    -0.27135     0.15284     0.36021999\n",
            " -1.07640004 -0.024004   -0.18445    -1.65310001  0.57112002 -0.18643001\n",
            " -0.058574   -0.72650999 -0.0086029  -0.63115001 -0.21867     0.45084\n",
            "  0.60867     0.39752999 -0.87519997  0.69128001  0.44080001 -0.19983\n",
            "  0.10087    -0.17122     0.53097999  0.66426998  0.35005999 -0.29385999\n",
            "  0.64579999  0.37171    -0.16801     0.42021999 -0.026076   -0.53626001\n",
            "  1.03199995 -0.017245   -0.42954999 -0.53426999 -0.4332      0.016421\n",
            "  0.56849998  0.40968001  0.10313     0.034887    0.25668001  1.07710004\n",
            "  0.26875001  0.32427999  0.30946001  1.00230002  0.55751997  0.59030002\n",
            "  0.12926     0.57999003 -1.03789997 -0.45901     0.26747999 -0.79707003\n",
            "  0.0017965  -0.58337998  0.46263999  0.49495    -0.22877    -0.74364001\n",
            "  0.56700999 -0.56405997  0.10903    -0.71495003 -0.26471001  0.29521999\n",
            " -0.058993   -0.88959002 -0.60917002  0.038756    1.22249997 -0.68813002\n",
            "  0.29255    -0.35848999  0.6717      0.53245002  0.13624001 -0.28097001\n",
            " -0.50283003 -0.39963001  0.23266999  0.037684   -0.075682    0.14354999\n",
            "  0.48721001 -1.02789998  0.12929     0.010412    0.34354001  0.18583\n",
            " -0.0054262  -0.84373999 -0.2165     -0.23804   ]\n"
          ]
        }
      ],
      "source": [
        "# code for Glove word embedding  \n",
        "tokenizer = Tokenizer()\n",
        "tokenizer.fit_on_texts(corpus)\n",
        "  \n",
        "# number of unique words in dict.\n",
        "print(\"Number of unique words in dictionary=\", len(tokenizer.word_index))\n",
        "\n",
        "def embedding_for_vocab(filepath, word_index, embedding_dim):\n",
        "    vocab_size = len(word_index) + 1\n",
        "    # Adding again 1 because of reserved 0 index\n",
        "    embedding_matrix_vocab = np.zeros((vocab_size, embedding_dim))\n",
        "    with open(filepath, encoding=\"utf8\") as f:\n",
        "        for line in f:\n",
        "            word, *vector = line.split()\n",
        "            if word in word_index:\n",
        "                idx = word_index[word]\n",
        "                embedding_matrix_vocab[idx] = np.array(vector, dtype=np.float32)[:embedding_dim]\n",
        "    return embedding_matrix_vocab\n",
        "    \n",
        "# matrix for vocab: word_index\n",
        "embedding_dim = 100\n",
        "embedding_matrix_vocab = embedding_for_vocab('/content/drive/MyDrive/glove.6B.300d.txt', tokenizer.word_index, embedding_dim)\n",
        "print(\"Dense vector for first word is => \", embedding_matrix_vocab[1])"
      ]
    },
    {
      "cell_type": "code",
      "execution_count": null,
      "metadata": {
        "colab": {
          "base_uri": "https://localhost:8080/"
        },
        "id": "hOpb-q3ujbho",
        "outputId": "188c807c-44a2-4138-c88e-9a1e303ba05e"
      },
      "outputs": [
        {
          "output_type": "stream",
          "name": "stdout",
          "text": [
            "21859\n"
          ]
        }
      ],
      "source": [
        "#Contains the pretrained GloVe weights for the words\n",
        "voc_size=len(embedding_matrix_vocab)\n",
        "print(voc_size)"
      ]
    },
    {
      "cell_type": "code",
      "execution_count": null,
      "metadata": {
        "colab": {
          "base_uri": "https://localhost:8080/"
        },
        "id": "jVv5AGuljdX3",
        "outputId": "63ba392d-0efd-43bb-c9fb-d13837cddde5"
      },
      "outputs": [
        {
          "output_type": "stream",
          "name": "stdout",
          "text": [
            "[[    0     0     0 ...  8266  5616 18238]\n",
            " [    0     0     0 ... 19244   938  4880]\n",
            " [    0     0     0 ...  1644  5214 19080]\n",
            " ...\n",
            " [    0     0     0 ...     0     0     0]\n",
            " [    0     0     0 ...     0     0 13831]\n",
            " [    0     0     0 ...     0     0     0]]\n"
          ]
        }
      ],
      "source": [
        "#One hot representation for input\n",
        "onehot_repr=[one_hot(words, voc_size)for words in corpus]\n",
        "\n",
        "#Finding max words\n",
        "l = 0\n",
        "for x in corpus:\n",
        "    l = max(l,len(x.split(' ')))\n",
        "\n",
        "#Padding the sequences for input\n",
        "sent_length= l\n",
        "embedded_docs=pad_sequences(onehot_repr,padding='pre',maxlen=sent_length)\n",
        "print(embedded_docs)"
      ]
    },
    {
      "cell_type": "code",
      "execution_count": null,
      "metadata": {
        "colab": {
          "base_uri": "https://localhost:8080/"
        },
        "id": "Eu88r8fNjhaf",
        "outputId": "9d462d36-23ea-48d2-93ef-7da28de2ddb8"
      },
      "outputs": [
        {
          "output_type": "stream",
          "name": "stdout",
          "text": [
            "[3 3 3 ... 9 9 9]\n"
          ]
        }
      ],
      "source": [
        "#Encoding the target outputs to integers\n",
        "label_encoder = preprocessing.LabelEncoder()\n",
        "\n",
        "X_final=np.array(embedded_docs) #input to array\n",
        "y = label_encoder.fit_transform(y)\n",
        "y_final=np.array(y)\n",
        "print(y_final)"
      ]
    },
    {
      "cell_type": "code",
      "execution_count": null,
      "metadata": {
        "colab": {
          "base_uri": "https://localhost:8080/"
        },
        "id": "qyj86sFEjlGA",
        "outputId": "7853dafd-98ef-4546-972f-eefe2792288c"
      },
      "outputs": [
        {
          "output_type": "execute_result",
          "data": {
            "text/plain": [
              "((10337, 229), (10337,))"
            ]
          },
          "metadata": {},
          "execution_count": 11
        }
      ],
      "source": [
        "X_final.shape,y_final.shape"
      ]
    },
    {
      "cell_type": "code",
      "execution_count": null,
      "metadata": {
        "id": "YrqsBotvjxBK"
      },
      "outputs": [],
      "source": [
        "#Train-Test split\n",
        "X_train, X_test, y_train, y_test = train_test_split(X_final, y_final, test_size=0.2, random_state=42) \n",
        "#Train-Validation split\n",
        "X_train, X_val, y_train, y_val = train_test_split(X_train, y_train, test_size=0.1, random_state=21)"
      ]
    },
    {
      "cell_type": "code",
      "execution_count": null,
      "metadata": {
        "colab": {
          "base_uri": "https://localhost:8080/"
        },
        "id": "hYVSzpleBrlp",
        "outputId": "242ab294-36b5-4dd4-c4dc-76794b2b55e3"
      },
      "outputs": [
        {
          "output_type": "stream",
          "name": "stdout",
          "text": [
            "Model: \"sequential_3\"\n",
            "_________________________________________________________________\n",
            " Layer (type)                Output Shape              Param #   \n",
            "=================================================================\n",
            " embedding_3 (Embedding)     (None, 300, 32)           96000     \n",
            "                                                                 \n",
            " lstm_3 (LSTM)               (None, 100)               53200     \n",
            "                                                                 \n",
            " dense_3 (Dense)             (None, 1)                 101       \n",
            "                                                                 \n",
            "=================================================================\n",
            "Total params: 149,301\n",
            "Trainable params: 149,301\n",
            "Non-trainable params: 0\n",
            "_________________________________________________________________\n",
            "None\n",
            "Epoch 1/29\n",
            "262/262 [==============================] - 120s 450ms/step - loss: 0.4902 - accuracy: 0.7586 - val_loss: 0.3730 - val_accuracy: 0.8442\n",
            "Epoch 2/29\n",
            "262/262 [==============================] - 150s 572ms/step - loss: 0.3166 - accuracy: 0.8707 - val_loss: 0.3566 - val_accuracy: 0.8439\n",
            "Epoch 3/29\n",
            "262/262 [==============================] - 119s 455ms/step - loss: 0.2736 - accuracy: 0.8921 - val_loss: 0.3589 - val_accuracy: 0.8623\n",
            "Epoch 4/29\n",
            "262/262 [==============================] - 121s 461ms/step - loss: 0.2657 - accuracy: 0.8933 - val_loss: 0.3953 - val_accuracy: 0.8527\n",
            "Epoch 5/29\n",
            "262/262 [==============================] - 116s 441ms/step - loss: 0.2189 - accuracy: 0.9151 - val_loss: 0.3306 - val_accuracy: 0.8612\n",
            "Epoch 6/29\n",
            "262/262 [==============================] - 115s 440ms/step - loss: 0.2049 - accuracy: 0.9218 - val_loss: 0.3519 - val_accuracy: 0.8565\n",
            "Epoch 7/29\n",
            "262/262 [==============================] - 115s 440ms/step - loss: 0.1763 - accuracy: 0.9371 - val_loss: 0.4271 - val_accuracy: 0.8610\n",
            "Epoch 8/29\n",
            "262/262 [==============================] - 116s 444ms/step - loss: 0.1562 - accuracy: 0.9433 - val_loss: 0.4732 - val_accuracy: 0.8576\n",
            "Epoch 9/29\n",
            "262/262 [==============================] - 115s 440ms/step - loss: 0.1362 - accuracy: 0.9516 - val_loss: 0.4639 - val_accuracy: 0.8560\n",
            "Epoch 10/29\n",
            "262/262 [==============================] - 116s 442ms/step - loss: 0.1381 - accuracy: 0.9527 - val_loss: 0.4733 - val_accuracy: 0.8502\n",
            "Epoch 11/29\n",
            "262/262 [==============================] - 115s 440ms/step - loss: 0.1643 - accuracy: 0.9409 - val_loss: 0.6811 - val_accuracy: 0.8047\n",
            "Epoch 12/29\n",
            "262/262 [==============================] - 115s 440ms/step - loss: 0.1376 - accuracy: 0.9512 - val_loss: 0.4565 - val_accuracy: 0.8430\n",
            "Epoch 13/29\n",
            "262/262 [==============================] - 115s 440ms/step - loss: 0.1097 - accuracy: 0.9628 - val_loss: 0.5338 - val_accuracy: 0.8473\n",
            "Epoch 14/29\n",
            "262/262 [==============================] - 115s 440ms/step - loss: 0.1053 - accuracy: 0.9635 - val_loss: 0.5001 - val_accuracy: 0.8436\n",
            "Epoch 15/29\n",
            "262/262 [==============================] - 115s 441ms/step - loss: 0.1031 - accuracy: 0.9659 - val_loss: 0.5213 - val_accuracy: 0.8406\n",
            "Epoch 16/29\n",
            "262/262 [==============================] - 115s 439ms/step - loss: 0.1851 - accuracy: 0.9290 - val_loss: 0.6606 - val_accuracy: 0.7719\n",
            "Epoch 17/29\n",
            "262/262 [==============================] - 115s 439ms/step - loss: 0.2236 - accuracy: 0.9036 - val_loss: 0.4474 - val_accuracy: 0.8422\n",
            "Epoch 18/29\n",
            "262/262 [==============================] - 118s 452ms/step - loss: 0.0930 - accuracy: 0.9687 - val_loss: 0.5738 - val_accuracy: 0.8349\n",
            "Epoch 19/29\n",
            "262/262 [==============================] - 115s 440ms/step - loss: 0.0770 - accuracy: 0.9742 - val_loss: 0.5498 - val_accuracy: 0.8382\n",
            "Epoch 20/29\n",
            "262/262 [==============================] - 115s 441ms/step - loss: 0.0897 - accuracy: 0.9706 - val_loss: 0.6239 - val_accuracy: 0.8385\n",
            "Epoch 21/29\n",
            "262/262 [==============================] - 116s 441ms/step - loss: 0.0883 - accuracy: 0.9703 - val_loss: 0.7626 - val_accuracy: 0.7225\n",
            "Epoch 22/29\n",
            "262/262 [==============================] - 116s 441ms/step - loss: 0.1535 - accuracy: 0.9432 - val_loss: 0.5313 - val_accuracy: 0.8365\n",
            "Epoch 23/29\n",
            "262/262 [==============================] - 116s 442ms/step - loss: 0.0553 - accuracy: 0.9835 - val_loss: 0.5986 - val_accuracy: 0.8304\n",
            "Epoch 24/29\n",
            "262/262 [==============================] - 116s 442ms/step - loss: 0.0445 - accuracy: 0.9884 - val_loss: 0.6962 - val_accuracy: 0.8305\n",
            "Epoch 25/29\n",
            "262/262 [==============================] - 116s 444ms/step - loss: 0.0642 - accuracy: 0.9796 - val_loss: 0.7518 - val_accuracy: 0.8421\n",
            "Epoch 26/29\n",
            "262/262 [==============================] - 116s 442ms/step - loss: 0.0592 - accuracy: 0.9821 - val_loss: 0.7249 - val_accuracy: 0.7915\n",
            "Epoch 27/29\n",
            "262/262 [==============================] - 116s 444ms/step - loss: 0.0498 - accuracy: 0.9848 - val_loss: 0.8483 - val_accuracy: 0.8315\n",
            "Epoch 28/29\n",
            "262/262 [==============================] - 116s 443ms/step - loss: 0.0379 - accuracy: 0.9888 - val_loss: 0.8005 - val_accuracy: 0.8395\n",
            "Epoch 29/29\n",
            "262/262 [==============================] - 119s 455ms/step - loss: 0.0301 - accuracy: 0.9919 - val_loss: 0.8559 - val_accuracy: 0.8273\n",
            "Validation Accuracy: 82.53%\n"
          ]
        }
      ],
      "source": [
        "# LSTM for sequence classification\n",
        "import tensorflow as tf\n",
        "from tensorflow.keras.datasets import imdb\n",
        "from tensorflow.keras.models import Sequential\n",
        "from tensorflow.keras.layers import Dense\n",
        "from tensorflow.keras.layers import LSTM\n",
        "from tensorflow.keras.layers import Embedding\n",
        "from tensorflow.keras.preprocessing import sequence\n",
        "# fix random seed for reproducibility\n",
        "tf.random.set_seed(7)\n",
        "# load the dataset but only keep the top n words, zero the rest\n",
        "top_words = 3000\n",
        "(X_train, y_train), (X_test, y_test) = imdb.load_data(num_words=top_words)\n",
        "# truncate and pad input sequences\n",
        "max_review_length = 300\n",
        "X_train = sequence.pad_sequences(X_train, maxlen=max_review_length)\n",
        "X_test = sequence.pad_sequences(X_test, maxlen=max_review_length)\n",
        "# create the model\n",
        "embedding_vecor_length = 32\n",
        "model = Sequential()\n",
        "model.add(Embedding(top_words, embedding_vecor_length, input_length=max_review_length))\n",
        "model.add(LSTM(100))\n",
        "model.add(Dense(1, activation='sigmoid'))\n",
        "model.compile(loss='binary_crossentropy', optimizer='adam', metrics=['accuracy'])\n",
        "print(model.summary())\n",
        "history = model.fit(X_train, y_train, validation_split=0.33, epochs=29, batch_size=64)\n",
        "# Final evaluation of the model\n",
        "scores = model.evaluate(X_test, y_test, verbose=0)\n",
        "print(\"Validation Accuracy: %.2f%%\" % (scores[1]*100))"
      ]
    },
    {
      "cell_type": "code",
      "execution_count": null,
      "metadata": {
        "id": "U4_owR7zjaQB"
      },
      "outputs": [],
      "source": [
        "print(history.history.keys())\n",
        "plt.plot(history.history['accuracy'])\n",
        "plt.plot(history.history['val_accuracy'])\n",
        "plt.title('model accuracy')\n",
        "plt.ylabel('accuracy')\n",
        "plt.xlabel('epoch')\n",
        "plt.legend(['test','validation'],loc='upper left')\n",
        "plt.show()\n",
        "\n",
        "plt.plot(history.history['loss'])\n",
        "plt.plot(history.history['val_loss'])\n",
        "plt.title('model loss')\n",
        "plt.ylabel('loss')\n",
        "plt.xlabel('epoch')\n",
        "plt.legend(['test','validation'],loc='upper left')\n",
        "plt.show()"
      ]
    },
    {
      "cell_type": "code",
      "source": [
        "y_pred = model.predict(x_train)\n",
        "y_pred1 = model.predict(x_test)"
      ],
      "metadata": {
        "id": "CbHUk--SPzod"
      },
      "execution_count": null,
      "outputs": []
    },
    {
      "cell_type": "code",
      "source": [
        "from sklearn.metrics import accuracy_score, confusion_matrix, classification_report\n",
        "train_acc = accuracy_score(y_train, y_pred)\n",
        "test_acc = accuracy_score(y_test, y_pred1)\n",
        "cm = confusion_matrix(y_test, y_pred1)\n",
        "print(\"Training Accuracy is :\",train_acc)\n",
        "print(\"Testing Accuracy is :\",test_acc)"
      ],
      "metadata": {
        "colab": {
          "base_uri": "https://localhost:8080/"
        },
        "id": "E_phB98dP3Mv",
        "outputId": "7c806b2f-4d4e-4519-e7a0-f10d03cefcf3"
      },
      "execution_count": null,
      "outputs": [
        {
          "output_type": "stream",
          "name": "stdout",
          "text": [
            "Training Accuracy is : 0.9880275728624985\n",
            "Testing Accuracy is : 0.9792069632495164\n"
          ]
        }
      ]
    },
    {
      "cell_type": "code",
      "source": [
        "plt.figure(figsize=(15,10))\n",
        "sns.heatmap(cm, annot = True)\n",
        "plt.show()"
      ],
      "metadata": {
        "colab": {
          "base_uri": "https://localhost:8080/",
          "height": 592
        },
        "id": "BzqcF9swQ_-p",
        "outputId": "41555210-aa46-4351-c6e7-c6cb6ef0759b"
      },
      "execution_count": null,
      "outputs": [
        {
          "output_type": "display_data",
          "data": {
            "text/plain": [
              "<Figure size 1080x720 with 2 Axes>"
            ],
            "image/png": "[encoded data removed]"
          },
          "metadata": {
            "needs_background": "light"
          }
        }
      ]
    },
    {
      "cell_type": "code",
      "source": [
        "def predict(text):\n",
        "     x = cv.transform([text]).toarray() # converting text to bag of words model (Vector)\n",
        "     lang = model.predict(x) # predicting the language\n",
        "     lang = le.inverse_transform(lang) # finding the language corresponding the the predicted value\n",
        "     print(\"The sentence is in\",lang[0], \"language\")"
      ],
      "metadata": {
        "id": "9O_CmxAWRJ8q"
      },
      "execution_count": null,
      "outputs": []
    },
    {
      "cell_type": "code",
      "source": [
        "predict(\"HELLO ALL WELCOME\")"
      ],
      "metadata": {
        "colab": {
          "base_uri": "https://localhost:8080/"
        },
        "id": "T2dc5qsYRLdy",
        "outputId": "dbc551ce-a9cd-4504-f58d-bc78fbccd830"
      },
      "execution_count": null,
      "outputs": [
        {
          "output_type": "stream",
          "name": "stdout",
          "text": [
            "The sentence is in English language\n"
          ]
        }
      ]
    },
    {
      "cell_type": "code",
      "source": [
        "predict(\"सभी के लिए शुभकामनाएं\")"
      ],
      "metadata": {
        "colab": {
          "base_uri": "https://localhost:8080/"
        },
        "id": "Cu_gcLMgRQfI",
        "outputId": "30b5e486-3b7b-4a7f-aad3-5c1f16dbdaf3"
      },
      "execution_count": null,
      "outputs": [
        {
          "output_type": "stream",
          "name": "stdout",
          "text": [
            "The sentence is in Hindi language\n"
          ]
        }
      ]
    },
    {
      "cell_type": "code",
      "source": [
        "predict(\"எல்லோருக்கும் வாழ்த்துக்கள்\")"
      ],
      "metadata": {
        "colab": {
          "base_uri": "https://localhost:8080/"
        },
        "id": "XpF4eR5QRT9y",
        "outputId": "37f863b2-71d7-4aa4-9ce4-39fd69a387d5"
      },
      "execution_count": null,
      "outputs": [
        {
          "output_type": "stream",
          "name": "stdout",
          "text": [
            "The sentence is in Tamil language\n"
          ]
        }
      ]
    }
  ],
  "metadata": {
    "colab": {
      "collapsed_sections": [],
      "provenance": []
    },
    "kernelspec": {
      "display_name": "Python 3",
      "name": "python3"
    },
    "language_info": {
      "name": "python"
    }
  },
  "nbformat": 4,
  "nbformat_minor": 0
}